{
 "cells": [
  {
   "cell_type": "code",
   "execution_count": 1,
   "metadata": {},
   "outputs": [],
   "source": [
    "import treelog\n",
    "import numpy as np"
   ]
  },
  {
   "cell_type": "code",
   "execution_count": 2,
   "metadata": {},
   "outputs": [],
   "source": [
    "args = treelog.args"
   ]
  },
  {
   "cell_type": "code",
   "execution_count": 14,
   "metadata": {},
   "outputs": [],
   "source": [
    "args.DOMAIN_SIZE = 2 ** 20"
   ]
  },
  {
   "cell_type": "code",
   "execution_count": 15,
   "metadata": {},
   "outputs": [],
   "source": [
    "DOMAIN_SIZE = args.DOMAIN_SIZE\n",
    "N_SAMPLES = args.N_SAMPLES\n",
    "DOMAIN = np.arange(1, DOMAIN_SIZE + 1)\n",
    "args.DELTA = 1 / DOMAIN_SIZE\n",
    "args.t = 100 / args.EPSILON * np.log(1 / args.DELTA)\n",
    "N_SAMPLES = int(N_SAMPLES * args.t * treelog.log_star(DOMAIN_SIZE))\n",
    "args.t = int(args.t)\n",
    "D = np.random.randint(low = 1, high = 1 + DOMAIN_SIZE, size=N_SAMPLES)"
   ]
  },
  {
   "cell_type": "code",
   "execution_count": 16,
   "metadata": {},
   "outputs": [
    {
     "name": "stdout",
     "output_type": "stream",
     "text": [
      "domain size:  1048576\n",
      "sample size:    69314\n"
     ]
    }
   ],
   "source": [
    "print(f'domain size:  {DOMAIN_SIZE:7d}')\n",
    "print(f'sample size:  {N_SAMPLES:7d}')"
   ]
  },
  {
   "cell_type": "code",
   "execution_count": 20,
   "metadata": {},
   "outputs": [
    {
     "data": {
      "text/plain": [
       "True"
      ]
     },
     "execution_count": 20,
     "metadata": {},
     "output_type": "execute_result"
    }
   ],
   "source": [
    "is_run, return_value = treelog.TreeLog(DOMAIN, D)\n",
    "treelog.success(D, return_value)"
   ]
  },
  {
   "cell_type": "code",
   "execution_count": null,
   "metadata": {},
   "outputs": [],
   "source": []
  }
 ],
 "metadata": {
  "kernelspec": {
   "display_name": "Python 3",
   "language": "python",
   "name": "python3"
  },
  "language_info": {
   "codemirror_mode": {
    "name": "ipython",
    "version": 3
   },
   "file_extension": ".py",
   "mimetype": "text/x-python",
   "name": "python",
   "nbconvert_exporter": "python",
   "pygments_lexer": "ipython3",
   "version": "3.9.6"
  }
 },
 "nbformat": 4,
 "nbformat_minor": 2
}
